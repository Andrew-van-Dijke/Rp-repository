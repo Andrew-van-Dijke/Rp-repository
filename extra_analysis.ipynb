{
 "cells": [
  {
   "cell_type": "code",
   "execution_count": 15,
   "metadata": {},
   "outputs": [],
   "source": [
    "import numpy as np"
   ]
  },
  {
   "cell_type": "code",
   "execution_count": 16,
   "metadata": {},
   "outputs": [],
   "source": [
    "data = np.load('K_step.npy')\n"
   ]
  },
  {
   "cell_type": "code",
   "execution_count": 17,
   "metadata": {},
   "outputs": [
    {
     "name": "stdout",
     "output_type": "stream",
     "text": [
      "[[0.04776344 0.02764679 0.         0.         0.         0.02065135]\n",
      " [0.02034948 0.04841638 0.02339696 0.         0.         0.        ]\n",
      " [0.         0.02363419 0.04836191 0.02032958 0.         0.        ]\n",
      " [0.         0.         0.02791908 0.04795873 0.0205379  0.        ]\n",
      " [0.         0.         0.         0.0284011  0.04820084 0.02418756]\n",
      " [0.02817423 0.         0.         0.         0.02445488 0.0482135 ]]\n",
      "(6, 6, 101)\n"
     ]
    }
   ],
   "source": [
    "print(data[:,:,100])\n",
    "# [everything from first dimensions, everything from second dimension, one thing from third dimension]\n",
    "print(np.shape(data))"
   ]
  }
 ],
 "metadata": {
  "kernelspec": {
   "display_name": "nsp2",
   "language": "python",
   "name": "python3"
  },
  "language_info": {
   "codemirror_mode": {
    "name": "ipython",
    "version": 3
   },
   "file_extension": ".py",
   "mimetype": "text/x-python",
   "name": "python",
   "nbconvert_exporter": "python",
   "pygments_lexer": "ipython3",
   "version": "3.9.18"
  }
 },
 "nbformat": 4,
 "nbformat_minor": 2
}
